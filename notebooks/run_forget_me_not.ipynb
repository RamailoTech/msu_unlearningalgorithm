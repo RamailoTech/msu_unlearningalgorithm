{
 "cells": [
  {
   "cell_type": "markdown",
   "metadata": {},
   "source": [
    "## Machine Unlearning (MU) for Forget me not algorithm. "
   ]
  },
  {
   "cell_type": "markdown",
   "metadata": {},
   "source": [
    " #### **1: Environment Setup**\n",
    " \n",
    "In this section, we set up our Python environment and install the necessary packages. For reproducibility, it’s best to use a virtual environment.\n",
    "\n",
    "\n",
    "Instructions:\n",
    "\n",
    "* Create and activate your virtual environment.\n",
    "\n",
    "* Install our package `unlearn_diff`.\n",
    "\n",
    "\n",
    "**Prerequisities**\n",
    "\n",
    "Ensure conda is installed on your system. You can install Miniconda or Anaconda:\n",
    "\n",
    "* Miniconda (recommended): https://docs.conda.io/en/latest/miniconda.html\n",
    "\n",
    "* Anaconda: https://www.anaconda.com/products/distribution\n",
    "\n",
    "After installing conda, ensure it is available in your PATH by running. You may require to restart the terminal session:"
   ]
  },
  {
   "cell_type": "code",
   "execution_count": null,
   "metadata": {},
   "outputs": [],
   "source": [
    "#create venv if you are using python script.\n",
    "\n",
    "!python -m venv unlearning-env"
   ]
  },
  {
   "cell_type": "markdown",
   "metadata": {},
   "source": [
    "After creating your virtual environment, if you're working in a notebook, select the kernel associated with that environment. If you're using a terminal instead, activate the environment with:\n",
    "\n",
    "`source unlearning-env/bin/activate`"
   ]
  },
  {
   "cell_type": "code",
   "execution_count": null,
   "metadata": {},
   "outputs": [],
   "source": [
    "# Install our packaging unlearn_diff\n",
    "\n",
    "!pip install unlearn_diff"
   ]
  },
  {
   "cell_type": "markdown",
   "metadata": {},
   "source": [
    "#### 2. Create unlearn_diff environment \n",
    "\n",
    "Use this command to create environment:\n",
    "\n",
    "`create_env`"
   ]
  },
  {
   "cell_type": "code",
   "execution_count": null,
   "metadata": {},
   "outputs": [],
   "source": [
    "!create_env"
   ]
  },
  {
   "cell_type": "markdown",
   "metadata": {},
   "source": [
    "#### **3. Downloading the Dataset**\n",
    "\n",
    "After you install the package, you can use the following commands to download.\n",
    "\n",
    "1. i2p:\n",
    "\n",
    "* Sample: \n",
    "\n",
    "```bash \n",
    "        download_data sample i2p\n",
    "```\n",
    "\n",
    "* Full: \n",
    "```bash \n",
    "       download_data full i2p\n",
    "```\n",
    "\n",
    "2. quick_canvas:\n",
    "\n",
    "* Sample: \n",
    "\n",
    "```bash \n",
    "     download_data sample quick_canvas\n",
    "```\n",
    "\n",
    "* Full: \n",
    "\n",
    "```bash \n",
    "     download_data full quick_canvas\n",
    "```"
   ]
  },
  {
   "cell_type": "code",
   "execution_count": null,
   "metadata": {},
   "outputs": [],
   "source": [
    "# downloading sample i2p dataset\n",
    "\n",
    "!download_data sample i2p"
   ]
  },
  {
   "cell_type": "code",
   "execution_count": null,
   "metadata": {},
   "outputs": [],
   "source": [
    "#downloading sample quick_canvas dataset:\n",
    "\n",
    "!download_data sample quick_canvas"
   ]
  },
  {
   "cell_type": "markdown",
   "metadata": {},
   "source": [
    "Once you have downloaded datasets, verify the Downloaded Files.\n",
    "\n",
    "* ls data/i2p-dataset/sample/\n",
    "\n",
    "* ls -lh ./data/quick-canvas-dataset/sample/"
   ]
  },
  {
   "cell_type": "markdown",
   "metadata": {},
   "source": [
    "#### **4. Downloading models**\n",
    "\n",
    "* compvis: \n",
    "\n",
    "```bash \n",
    "     download_model compvis\n",
    "```\n",
    "\n",
    "* diffuser: \n",
    "\n",
    "```bash\n",
    "     download_model diffuser\n",
    "```"
   ]
  },
  {
   "cell_type": "code",
   "execution_count": null,
   "metadata": {},
   "outputs": [],
   "source": [
    "# download compvis model\n",
    "\n",
    "#! download_model compvis "
   ]
  },
  {
   "cell_type": "code",
   "execution_count": null,
   "metadata": {},
   "outputs": [],
   "source": [
    "# download diffuser model\n",
    "\n",
    "#! download_model diffuser"
   ]
  },
  {
   "cell_type": "markdown",
   "metadata": {},
   "source": [
    "#### 5. **Train a Text Inversion**\n",
    "\n",
    "The default configuration for training is provided by forget_me_not_train_ti_mu. You can run the training with the default settings as follows:\n",
    "\n",
    "```python\n",
    "from mu.algorithms.forget_me_not.algorithm import ForgetMeNotAlgorithm\n",
    "from mu.algorithms.forget_me_not.configs import (\n",
    "    forget_me_not_train_ti_mu,\n",
    ")\n",
    "\n",
    "algorithm = ForgetMeNotAlgorithm(\n",
    "    forget_me_not_train_ti_mu\n",
    ")\n",
    "algorithm.run(train_type=\"train_ti\")\n",
    "```\n",
    "\n",
    "<br> <br>\n",
    "\n",
    "**Overriding the Default Configuration**\n",
    "\n",
    "If you need to override the existing configuration settings, you can specify your custom parameters (such as ckpt_path and raw_dataset_dir) directly when initializing the algorithm. For example:\n",
    "\n",
    "```python\n",
    "from mu.algorithms.forget_me_not.algorithm import ForgetMeNotAlgorithm\n",
    "from mu.algorithms.forget_me_not.configs import (\n",
    "    forget_me_not_train_ti_mu,\n",
    ")\n",
    "\n",
    "algorithm = ForgetMeNotAlgorithm(\n",
    "    forget_me_not_train_ti_mu,\n",
    "    ckpt_path=\"/home/ubuntu/Projects/UnlearnCanvas/UnlearnCanvas/machine_unlearning/models/diffuser/style50\",\n",
    "    raw_dataset_dir=(\n",
    "        \"/home/ubuntu/Projects/balaram/packaging/data/quick-canvas-dataset/sample\"\n",
    "    ), \n",
    "    steps=10,\n",
    "    use_sample = True\n",
    ")\n",
    "algorithm.run(train_type=\"train_ti\")\n",
    "```\n",
    "<br><br><br>\n",
    "\n",
    "\n",
    "Before performing machine unlearning, make sure to generate the safetensors weights file. This file should be produced as part of the unlearning process so that the subsequent machine unlearning step can use these weights. Once generated, the safetensors file will be\n",
    "referenced via the 'ti_weights_path' parameter."
   ]
  },
  {
   "cell_type": "code",
   "execution_count": null,
   "metadata": {},
   "outputs": [],
   "source": [
    "#generate safetensors\n",
    "\n",
    "from mu.algorithms.forget_me_not.algorithm import ForgetMeNotAlgorithm\n",
    "from mu.algorithms.forget_me_not.configs import (\n",
    "    forget_me_not_train_ti_mu,\n",
    ")\n",
    "\n",
    "algorithm = ForgetMeNotAlgorithm(\n",
    "    forget_me_not_train_ti_mu,\n",
    "    ckpt_path=\"/home/ubuntu/Projects/UnlearnCanvas/UnlearnCanvas/machine_unlearning/models/diffuser/style50\",\n",
    "    raw_dataset_dir=(\n",
    "        \"data/quick-canvas-dataset/sample\"\n",
    "        # \"data/i2p-dataset/sample\"\n",
    "    ), \n",
    "    steps=10\n",
    ")\n",
    "algorithm.run(train_type=\"train_ti\")"
   ]
  },
  {
   "cell_type": "code",
   "execution_count": null,
   "metadata": {},
   "outputs": [],
   "source": [
    "# machine unlearning using the generated safetensors\n",
    "\n",
    "from mu.algorithms.forget_me_not.algorithm import ForgetMeNotAlgorithm\n",
    "from mu.algorithms.forget_me_not.configs import (\n",
    "    forget_me_not_train_attn_mu,\n",
    ")\n",
    "\n",
    "algorithm = ForgetMeNotAlgorithm(\n",
    "    forget_me_not_train_attn_mu,\n",
    "    ckpt_path=\"/home/ubuntu/Projects/UnlearnCanvas/UnlearnCanvas/machine_unlearning/models/diffuser/style50\",\n",
    "    raw_dataset_dir=(\n",
    "        \"data/quick-canvas-dataset/sample\"\n",
    "    ),\n",
    "    steps=10,\n",
    "    ti_weights_path=\"outputs/forget_me_not/ti_models/step_inv_10.safetensors\",\n",
    "    devices = \"0\"\n",
    ")\n",
    "algorithm.run(train_type=\"train_attn\")"
   ]
  },
  {
   "cell_type": "markdown",
   "metadata": {},
   "source": [
    "#### Evaluation of MU\n",
    "\n",
    "The evaluation framework is used to assess the performance of models after applying machine unlearning."
   ]
  },
  {
   "cell_type": "code",
   "execution_count": null,
   "metadata": {},
   "outputs": [],
   "source": [
    "from mu.algorithms.forget_me_not import ForgetMeNotEvaluator\n",
    "from mu.algorithms.forget_me_not.configs import (\n",
    "    forget_me_not_evaluation_config\n",
    ")\n",
    "\n",
    "evaluator = ForgetMeNotEvaluator(\n",
    "    forget_me_not_evaluation_config,\n",
    "    ckpt_path=\"outputs/forget_me_not/finetuned_models/Abstractionism\",  #finetuned model path\n",
    "    classifier_ckpt_path = \"/home/ubuntu/Projects/models/classifier_ckpt_path/style50_cls.pth\", \n",
    "    reference_dir= \"data/quick-canvas-dataset/sample/\",\n",
    "    use_sample = True # to evaluate on sample dataset\n",
    ")\n",
    "evaluator.run()"
   ]
  },
  {
   "cell_type": "markdown",
   "metadata": {},
   "source": [
    "#### **Run Attacks**\n",
    "\n",
    "Before running attacks, download dataset for attack. Run the following command in terminal.\n",
    "\n",
    "`generate_attack_dataset --prompts_path data/prompts/prompts.csv --concept i2p_nude --save_path outputs/dataset --num_samples 1`\n",
    "\n",
    "Here, prompts_path is the path of csv containing prompt, concept is the name of the concept for organizing output file, save_path is the directory where generated images and metadata will be saved, num_samples is the number of images to generate per prompt.\n",
    "\n",
    "1. **Hard Prompt Attack - Diffuser**\n",
    "\n",
    "Use the following code if you wish to run the hard prompt attack using diffuser model."
   ]
  },
  {
   "cell_type": "code",
   "execution_count": null,
   "metadata": {},
   "outputs": [],
   "source": [
    "from mu_attack.configs.nudity import hard_prompt_esd_nudity_P4D_diffusers_config\n",
    "from mu_attack.execs.attack import MUAttack\n",
    "\n",
    "def run_attack_for_nudity():\n",
    "\n",
    "    overridable_params = {\n",
    "       \"task.diffusers_model_name_or_path\" : \"outputs/forget_me_not/finetuned_models/Abstractionism\", #path to the finetuned model\n",
    "        \"task.dataset_path\" : \"outputs/dataset/i2p_nude\", #generated images path using above given command\n",
    "        \"logger.json.root\" :\"results/hard_prompt_esd_nudity_P4D_abstractionism\"\n",
    "    }\n",
    "\n",
    "    MUAttack(\n",
    "        config=hard_prompt_esd_nudity_P4D_diffusers_config,\n",
    "        **overridable_params\n",
    "    )\n",
    "\n",
    "if __name__ == \"__main__\":\n",
    "    run_attack_for_nudity()"
   ]
  },
  {
   "cell_type": "markdown",
   "metadata": {},
   "source": [
    "**Random Attack - Diffuser**\n",
    "\n",
    "Use the following code if you wish to run the random attack using the Diffuser model:"
   ]
  },
  {
   "cell_type": "code",
   "execution_count": null,
   "metadata": {},
   "outputs": [],
   "source": [
    "from mu_attack.configs.nudity import no_attack_esd_nudity_classifier_diffusers_config\n",
    "from mu_attack.execs.attack import MUAttack\n",
    "\n",
    "def run_no_attack_for_nudity():\n",
    "\n",
    "    overridable_params = {\n",
    "    \"task.diffusers_model_name_or_path\" :\"outputs/forget_me_not/finetuned_models/Abstractionism\",\n",
    "    \"task.dataset_path\" : \"outputs/dataset/i2p_nude\",\n",
    "    \"logger.json.root\" : \"results/no_attack_esd_nudity_P4D_abstrctionism\",\n",
    "    \"attacker.no_attack.dataset_path\" : \"outputs/dataset/i2p_nude\"\n",
    "    }\n",
    "\n",
    "    MUAttack(\n",
    "        config=no_attack_esd_nudity_classifier_diffusers_config,\n",
    "        **overridable_params\n",
    "    )\n",
    "\n",
    "if __name__ == \"__main__\":\n",
    "    run_no_attack_for_nudity()"
   ]
  },
  {
   "cell_type": "markdown",
   "metadata": {},
   "source": [
    "#### Evaluation of MU_attack\n",
    "\n",
    "Calculate the performance of mu_attack using logs and images generated during attack.\n"
   ]
  },
  {
   "cell_type": "code",
   "execution_count": null,
   "metadata": {},
   "outputs": [],
   "source": [
    "from mu_attack.configs.evaluation import attack_evaluation_config\n",
    "from mu_attack.execs.evaluator import MuAttackEvaluator\n",
    "\n",
    "def main():\n",
    "    config = attack_evaluation_config\n",
    "    config.asr.root = \"results/hard_prompt_esd_nudity_P4D_abstractionism/P4d\"\n",
    "    config.asr.root_no_attack = \"results/hard_prompt_esd_nudity_P4D_abstrc/NoAttackEsdNudity\"\n",
    "    config.clip.devices = \"0\"\n",
    "    config.clip.image_path = \"results/hard_prompt_esd_nudity_P4D_abstractionism/P4d/images\"\n",
    "    config.clip.log_path = \"results/hard_prompt_esd_nudity_P4D_abstractionism/P4d/log.json\"\n",
    "    config.fid.ref_batch_path = \"results/hard_prompt_esd_nudity_P4D_abstractionism/P4d/images\"\n",
    "    config.fid.sample_batch_path = \"data/i2p/nude\"\n",
    "\n",
    "    # Common output path\n",
    "    config.output_path = \"results/evaluation/results.json\"\n",
    "\n",
    "    evaluator = MuAttackEvaluator(config)\n",
    "\n",
    "    # Run the evaluation (this will run ASR, CLIP, and FID evaluators)\n",
    "    results = evaluator.run()\n",
    "\n",
    "    print(\"Evaluation Results:\",results)\n",
    "\n",
    "if __name__ == \"__main__\":\n",
    "    main()"
   ]
  },
  {
   "cell_type": "markdown",
   "metadata": {},
   "source": [
    "### Mu Defense (AdvUnlean)\n",
    "\n",
    "After performing unlearning and attack, we need to perform adversarial unlearning by integrating a soft prompt attack into the training loop. use the following code snippet for advunlearn.\n",
    "\n"
   ]
  },
  {
   "cell_type": "code",
   "execution_count": null,
   "metadata": {},
   "outputs": [],
   "source": [
    "from mu_defense.algorithms.adv_unlearn.algorithm import AdvUnlearnAlgorithm\n",
    "from mu_defense.algorithms.adv_unlearn.configs import adv_unlearn_config\n",
    "\n",
    "\n",
    "def mu_defense():\n",
    "\n",
    "    mu_defense = AdvUnlearnAlgorithm(\n",
    "        config=adv_unlearn_config,\n",
    "        diffusers_model_name_or_path = \"/home/ubuntu/Projects/dipesh/unlearn_diff/outputs/forget_me_not/finetuned_models/Abstractionism\", #finetuned model\n",
    "        attack_step = 2,\n",
    "        backend = \"diffusers\",\n",
    "        attack_method = \"fast_at\",\n",
    "        # train_method = \"text_encoder_full\",  #training method. check for docs for available train_method \n",
    "        train_method = \"noxattn\", #training method. check for docs for available train_method \n",
    "        warmup_iter = 1,\n",
    "        iterations = 1\n",
    "    )\n",
    "    mu_defense.run()\n",
    "\n",
    "if __name__ == \"__main__\":\n",
    "    mu_defense()\n"
   ]
  },
  {
   "cell_type": "markdown",
   "metadata": {},
   "source": [
    "### Evaluation for mu_defense\n",
    "\n",
    "Before proceeding with evaluation, you must generate images using the output from mu_defense.\n",
    "\n",
    "To generate images use the following code snippet.\n",
    "\n",
    "\n",
    "Description of params used:\n",
    "\n",
    "* config: default train config for image generation.\n",
    "* target_ckpt: Model ckpt after running mu_defense (AdvUnleran).\n",
    "* save_path: output dir to save generated images.\n",
    "* prompts_path: path to the csv with prompts.\n",
    "* num_samples: number of samples to be generated for a prompt.\n",
    "* folder_suffix: suffix for folder name for save path.\n",
    "* devices: devices to be used.  "
   ]
  },
  {
   "cell_type": "code",
   "execution_count": null,
   "metadata": {},
   "outputs": [],
   "source": [
    "from mu_defense.algorithms.adv_unlearn.configs import example_image_generator_config\n",
    "from mu_defense.algorithms.adv_unlearn import ImageGenerator\n",
    "from mu.algorithms.erase_diff.configs import erase_diff_train_mu\n",
    "\n",
    "def generate_image():\n",
    "    generate_image = ImageGenerator(\n",
    "        config = example_image_generator_config,\n",
    "        target_ckpt = \"outputs/results_with_retaining/nudity/coco_object/pgd/AttackLr_0.001/text_encoder_full/all/prefix_k/AdvUnlearn-nudity-method_text_encoder_full_all-Attack_pgd-Retain_coco_object_iter_1.0-lr_1e-05-AttackLr_0.001-prefix_k_adv_num_1-word_embd-attack_init_latest-attack_step_30-adv_update_1-warmup_iter_200/\",\n",
    "        save_path = \"outputs/adv_unlearn/models\",\n",
    "        prompts_path = \"data/prompts/sample_prompts.csv\",\n",
    "        num_samples = 1,\n",
    "        folder_suffix = \"imagenette\",\n",
    "        devices = \"0\",\n",
    "\n",
    "    )\n",
    "    generate_image.generate_images()\n",
    "\n",
    "if __name__ == \"__main__\":\n",
    "    generate_image()"
   ]
  },
  {
   "cell_type": "markdown",
   "metadata": {},
   "source": [
    "Once the images are generated using the finetuned model from defense, you need to evaulate it's performance: "
   ]
  },
  {
   "cell_type": "code",
   "execution_count": null,
   "metadata": {},
   "outputs": [],
   "source": [
    "from mu_defense.algorithms.adv_unlearn import MUDefenseEvaluator\n",
    "from mu_defense.algorithms.adv_unlearn.configs import mu_defense_evaluation_config\n",
    "\n",
    "def mu_defense_evaluator():\n",
    "    evaluator = MUDefenseEvaluator(\n",
    "        config = mu_defense_evaluation_config,\n",
    "        gen_imgs_path = \"outputs/adv_unlearn/models_visualizations_imagenette/SD-v1-4/\",\n",
    "        coco_imgs_path = \"coco_dataset/sample\",\n",
    "        output_path = \"outputs/adv_unlearn/evaluation/\",\n",
    "        devices = \"0\"\n",
    "        # job = \"clip\", #donot use this if you want to calculate both clip and fid score\n",
    "    )\n",
    "    evaluator.run()\n",
    "\n",
    "\n",
    "if __name__ == \"__main__\":\n",
    "    mu_defense_evaluator()"
   ]
  },
  {
   "cell_type": "code",
   "execution_count": null,
   "metadata": {},
   "outputs": [],
   "source": []
  }
 ],
 "metadata": {
  "kernelspec": {
   "display_name": "UnlearnDiff",
   "language": "python",
   "name": "python3"
  },
  "language_info": {
   "codemirror_mode": {
    "name": "ipython",
    "version": 3
   },
   "file_extension": ".py",
   "mimetype": "text/x-python",
   "name": "python",
   "nbconvert_exporter": "python",
   "pygments_lexer": "ipython3",
   "version": "3.8.5"
  }
 },
 "nbformat": 4,
 "nbformat_minor": 4
}
